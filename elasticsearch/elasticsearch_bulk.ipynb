{
 "cells": [
  {
   "cell_type": "code",
   "execution_count": 1,
   "metadata": {
    "collapsed": true
   },
   "outputs": [],
   "source": [
    "from elasticsearch import Elasticsearch, helpers\n",
    "from stop_words import get_stop_words\n",
    "import spacy\n",
    "import time\n",
    "import json\n",
    "import re"
   ]
  },
  {
   "cell_type": "code",
   "execution_count": 5,
   "metadata": {
    "collapsed": true
   },
   "outputs": [],
   "source": [
    "list_ents=set(parser.entity.cfg[\"actions\"][\"1\"])"
   ]
  },
  {
   "cell_type": "code",
   "execution_count": 2,
   "metadata": {
    "collapsed": false
   },
   "outputs": [],
   "source": [
    "es=Elasticsearch([ {'host': host, 'port': n_port, 'url_prefix': 'es'} ])"
   ]
  },
  {
   "cell_type": "code",
   "execution_count": 3,
   "metadata": {
    "collapsed": false
   },
   "outputs": [],
   "source": [
    "stop_words = get_stop_words('en')"
   ]
  },
  {
   "cell_type": "code",
   "execution_count": 4,
   "metadata": {
    "collapsed": true
   },
   "outputs": [],
   "source": [
    "parser = spacy.load('en')"
   ]
  },
  {
   "cell_type": "code",
   "execution_count": 6,
   "metadata": {
    "collapsed": false
   },
   "outputs": [],
   "source": [
    "N=es.count(index=name_index, doc_type=\"email\")[\"count\"]"
   ]
  },
  {
   "cell_type": "code",
   "execution_count": null,
   "metadata": {
    "collapsed": false
   },
   "outputs": [],
   "source": [
    "doc=es.get(index=name_index, doc_type='email', id=\"1\")"
   ]
  },
  {
   "cell_type": "code",
   "execution_count": null,
   "metadata": {
    "collapsed": true
   },
   "outputs": [],
   "source": [
    "text=doc[\"_source\"]"
   ]
  },
  {
   "cell_type": "code",
   "execution_count": null,
   "metadata": {
    "collapsed": true
   },
   "outputs": [],
   "source": [
    "content=text[\"contents\"].strip()"
   ]
  },
  {
   "cell_type": "code",
   "execution_count": null,
   "metadata": {
    "collapsed": false
   },
   "outputs": [],
   "source": [
    "def show(doc):\n",
    "    kk=list(doc[\"_source\"].keys())\n",
    "    for k in kk:\n",
    "        print(k + \": \" + str(doc[\"_source\"][k]))\n",
    "    return None"
   ]
  },
  {
   "cell_type": "code",
   "execution_count": null,
   "metadata": {
    "collapsed": true
   },
   "outputs": [],
   "source": [
    "doc_processed=re.sub(\"\\[IMAGE\\]|\\|\", \"\", doc_processed)"
   ]
  },
  {
   "cell_type": "code",
   "execution_count": 8,
   "metadata": {
    "collapsed": false
   },
   "outputs": [],
   "source": [
    "def process_document(text):\n",
    "    '''\n",
    "    input: output of parser\n",
    "    '''\n",
    "    ents={}\n",
    "    pos={}\n",
    "    for ent in text.ents:\n",
    "        if ent.label_ not in ents:\n",
    "            ents[ent.label_] = []\n",
    "        ents[ent.label_].append(ent.text.strip())\n",
    "        \n",
    "    for token in text:\n",
    "        if token.pos_ in [\"ADJ\", \"NOUN\", \"VERB\"]:\n",
    "            if token.pos_ not in pos:\n",
    "                pos[token.pos_]=[]\n",
    "            pos[token.pos_].append(token.text.strip())\n",
    "            \n",
    "    nlp = { \"__nlp__\": {\"ents\":{k.lower(): ents[k] for k in ents}, \"pos\":{k.lower(): pos[k] for k in pos}} }\n",
    "    return nlp"
   ]
  },
  {
   "cell_type": "code",
   "execution_count": 9,
   "metadata": {
    "collapsed": true
   },
   "outputs": [],
   "source": [
    "def clean(content):\n",
    "    content.strip()\n",
    "    content=re.sub(\"\\[IMAGE\\]|\\|\", \"\", content)\n",
    "    content=content.strip()\n",
    "    return content"
   ]
  },
  {
   "cell_type": "code",
   "execution_count": null,
   "metadata": {
    "collapsed": false,
    "scrolled": false
   },
   "outputs": [],
   "source": [
    "start=time.time()\n",
    "\n",
    "docs=[]\n",
    "actions=[]\n",
    "count=0\n",
    "chunk_size_scan=1000\n",
    "chunk_size_bulk=10\n",
    "batch_size=100\n",
    "remove=[\"9\", \"\", \"!\", \"(lavorato's office)\", \"(maureen x31808)\", \"1 -\\r\\n 3pm\", \"3 - 3\", \"?\"]\n",
    "try:\n",
    "    for doc in helpers.scan(es, index=name_index, doc_type='email', size=chunk_size_scan):\n",
    "        count+=1\n",
    "        if count % chunk_size_scan == 0:\n",
    "            print(count)\n",
    "        docs.append(doc)\n",
    "        if len(docs) == chunk_size_scan:\n",
    "            texts = [clean(doc[\"_source\"][\"contents\"]) for doc in docs]\n",
    "            i=0\n",
    "            for doc_processed in parser.pipe(texts, batch_size=batch_size, n_threads=4):\n",
    "                nlp=process_document(doc_processed)\n",
    "                docs[i][\"_source\"].update(nlp)\n",
    "                for k in remove:\n",
    "                    if k in docs[i][\"_source\"]:\n",
    "                        del docs[i][\"_source\"][k]\n",
    "                v = {\n",
    "                        '_op_type': 'create',\n",
    "                        '_index': name_index_nlp,\n",
    "                        '_type': 'email',\n",
    "                        '_id': docs[i][\"_id\"],\n",
    "                        '_source': docs[i][\"_source\"]\n",
    "                }\n",
    "                #print(docs[i][\"_id\"])\n",
    "                #print(docs[i][\"_source\"])\n",
    "                actions.append(v)\n",
    "                i+=1\n",
    "            print(docs[i-1][\"_id\"])\n",
    "            print()\n",
    "            for b in helpers.parallel_bulk(es, actions=actions, thread_count=4, chunk_size=chunk_size_bulk):\n",
    "                pass\n",
    "            docs=[]\n",
    "            actions=[]\n",
    "except KeyboardInterrupt:\n",
    "    end=time.time()\n",
    "    print((end-start))\n",
    "    print(\"exit\")"
   ]
  },
  {
   "cell_type": "code",
   "execution_count": null,
   "metadata": {
    "collapsed": true
   },
   "outputs": [],
   "source": [
    "def remove_not_ascii(string):\n",
    "    string = string.encode('utf-8',errors='ignore').decode()\n",
    "    return string"
   ]
  }
 ],
 "metadata": {
  "anaconda-cloud": {},
  "kernelspec": {
   "display_name": "Python [conda root]",
   "language": "python",
   "name": "conda-root-py"
  },
  "language_info": {
   "codemirror_mode": {
    "name": "ipython",
    "version": 3
   },
   "file_extension": ".py",
   "mimetype": "text/x-python",
   "name": "python",
   "nbconvert_exporter": "python",
   "pygments_lexer": "ipython3",
   "version": "3.5.4"
  }
 },
 "nbformat": 4,
 "nbformat_minor": 2
}
